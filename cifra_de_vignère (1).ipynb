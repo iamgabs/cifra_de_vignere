{
  "nbformat": 4,
  "nbformat_minor": 0,
  "metadata": {
    "colab": {
      "provenance": []
    },
    "kernelspec": {
      "name": "python3",
      "display_name": "Python 3"
    },
    "language_info": {
      "name": "python"
    }
  },
  "cells": [
    {
      "cell_type": "markdown",
      "source": [
        "![if.png](data:image/png;base64,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)\n",
        "\n",
        "**Instituto Federal de Pernambuco - *Campus* Garanhuns**\n",
        "\n",
        "**Professor: David Alain do Nascimento**\n",
        "\n",
        "**Aluno: Gabriel da Silva Carvalho**"
      ],
      "metadata": {
        "id": "wegbjTLrVF4j"
      }
    },
    {
      "cell_type": "markdown",
      "source": [
        "Implemente uma cifra de substituição (semelhante à Cifra de Vigènere) que tenha\n",
        "como alfabeto (nesta exata ordem):\n",
        "os caracteres de 'a' até 'z'\n",
        "os caracteres de 'A' até 'Z'\n",
        "os números de '0' a '9'\n",
        "espaço em branco ' '\n",
        "vírgula ','\n",
        "ponto e vírgula ';'\n",
        "ponto '.'\n",
        "underscore '_'\n",
        "\n",
        "---\n",
        "\n",
        "Outros requisitos:\n",
        "A cifra deverá validar se os caracteres recebidos são válidos e lançar um\n",
        "erro caso algum caractere não seja válido dentro alfabeto especificado acima.\n",
        "A cifra deverá ter a função de cifrar e decifrar.\n",
        "Pode ser implementado em qualquer linguagem de sua preferência, mas ser\n",
        "fornecido o link ou acesso à uma plataforma online onde seja possível apenas\n",
        "colar e executar o código. Se tiver como deixar o código salvo online nessa\n",
        "plataforma é ainda melhor.\n",
        "O código também deverá ser salvo em um repositório público no github.\n",
        "A resposta dessa atividade deverá conter 2 links: o link do repositório no\n",
        " Github e o link da plataforma online para executar o código.\n"
      ],
      "metadata": {
        "id": "e6L5mxZ2VLEd"
      }
    },
    {
      "cell_type": "code",
      "source": [
        "def cifra_de_vignere(texto: str, chave: str, modo: str = 'decriptar') -> str:\n",
        "  alfabeto: str = 'abcdefghijklmnopqrstuvwxyzABCDEFGHIJKLMNOPQRSTUVWXYZ0123456789 ,;._'\n",
        "  tamanho_novo_alfabeto: int = len(alfabeto)\n",
        "  resultado: str = \"\"\n",
        "  indice_atual_da_chave: int = 0\n",
        "\n",
        "  # validar o texto informado\n",
        "  if any(letra not in alfabeto for letra in texto):\n",
        "    raise ValueError(\"Texto contém caracteres inválidos\")\n",
        "\n",
        "  # validar a chave informada\n",
        "  if any(letra not in alfabeto for letra in chave):\n",
        "    raise ValueError(\"Chave contém caracteres inválidos\")\n",
        "\n",
        "  for letra in texto:\n",
        "    if letra in alfabeto:\n",
        "      # recuperar o íncice da letra\n",
        "      indice_letra: int = alfabeto.index(letra)\n",
        "\n",
        "      # caclular o índice correspondete a letra na chave\n",
        "      letra_correspondente_chave: int = alfabeto.index(chave[indice_atual_da_chave % len(chave)])\n",
        "\n",
        "      # verificar se o deslocamento é de encriptação ou decriptação\n",
        "      deslocamento: int = (\n",
        "        letra_correspondente_chave if\n",
        "        modo == 'encriptar'\n",
        "        else -letra_correspondente_chave\n",
        "      )\n",
        "\n",
        "      # calcular o novo índice\n",
        "      novo_indice: int = (indice_letra + deslocamento) % tamanho_novo_alfabeto\n",
        "      resultado += alfabeto[novo_indice]\n",
        "\n",
        "      indice_atual_da_chave += 1\n",
        "\n",
        "\n",
        "  return resultado"
      ],
      "metadata": {
        "id": "Mcvxz4AlUUsc"
      },
      "execution_count": 30,
      "outputs": []
    },
    {
      "cell_type": "code",
      "source": [
        "texto: str = 'David Alain; unico brasileiro a instalar o zabbix, com seguranca_ e sem aprender russo.'\n",
        "chave: str = 'capacete12'"
      ],
      "metadata": {
        "id": "t3G78HfLX-pT"
      },
      "execution_count": 23,
      "outputs": []
    },
    {
      "cell_type": "code",
      "source": [
        "texto_encriptado: str = cifra_de_vignere(texto, chave, 'encriptar')\n",
        "print(texto_encriptado)"
      ],
      "metadata": {
        "colab": {
          "base_uri": "https://localhost:8080/"
        },
        "id": "7ga2ZED3YbBP",
        "outputId": "a56f4c9a-35d2-40ff-f563-36666a38fd82"
      },
      "execution_count": 28,
      "outputs": [
        {
          "output_type": "stream",
          "name": "stdout",
          "text": [
            "FaKif_Tp1 p;kupmvsW3taHiniBvaXc xnuxtp1e;okzcfumjY;cDm;wxkgecnrab_x_e6o pptiGh5e;rJsusr\n"
          ]
        }
      ]
    },
    {
      "cell_type": "code",
      "source": [
        "print(cifra_de_vignere(texto_encriptado, chave, 'decriptar'))"
      ],
      "metadata": {
        "colab": {
          "base_uri": "https://localhost:8080/"
        },
        "id": "FrSvsR6IY0YY",
        "outputId": "7f494be9-2199-4e2a-a155-1416a7ff64a7"
      },
      "execution_count": 29,
      "outputs": [
        {
          "output_type": "stream",
          "name": "stdout",
          "text": [
            "David Alain; unico brasileiro a instalar o zabbix, com seguranca_ e sem aprender russo.\n"
          ]
        }
      ]
    }
  ]
}